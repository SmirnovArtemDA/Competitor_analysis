{
 "cells": [
  {
   "cell_type": "code",
   "execution_count": 2,
   "metadata": {},
   "outputs": [],
   "source": [
    "\n",
    "\n",
    "import requests \n",
    "import pandas as pd\n",
    "import numpy as np\n",
    "from pprint import pprint\n",
    "import json\n",
    "import time\n",
    "import ast\n",
    "import datetime\n",
    "from dateutil.parser import parse\n",
    "from dateutil.relativedelta import relativedelta\n",
    "import matplotlib.pyplot as plt\n"
   ]
  },
  {
   "cell_type": "code",
   "execution_count": 3,
   "metadata": {},
   "outputs": [
    {
     "name": "stdout",
     "output_type": "stream",
     "text": [
      "Ожидаю 0.5 секунды...\n",
      "Ожидаю 0.5 секунды...\n",
      "Ожидаю 0.5 секунды...\n",
      "Ожидаю 0.5 секунды...\n",
      "Ожидаю 0.5 секунды...\n",
      "Цикл завершен, offset = 5000\n"
     ]
    }
   ],
   "source": [
    "token = 'c236a984c236a984c236a9846bc1258e29cc236c236a984a62e08a4142889748be3012f' \n",
    "url = 'https://api.vk.com/method/groups.getMembers' \n",
    "\n",
    "count = 1000 \n",
    "offset = 0  \n",
    "user_ids = []  \n",
    "while offset < 5000: \n",
    "    \n",
    "    params = {'group_id': 'vaflya_house', \n",
    "              'v': 5.95,    \n",
    "              'count': count, \n",
    "              'offset': offset, \n",
    "              'access_token': token,\n",
    "              'extended': 1,\n",
    "              'fields': 'first_name, last_name, city, country, about, activities, bdate, connections, contacts, occupation, last_seen, interests, sex'\n",
    "              } \n",
    "    \n",
    "    response = requests.get(url, params = params) \n",
    "    data = response.json() \n",
    "    user_ids += data['response']['items'] \n",
    "    offset += count \n",
    "    print('Ожидаю 0.5 секунды...') \n",
    "    time.sleep(0.5) \n",
    "print('Цикл завершен, offset =',offset) "
   ]
  },
  {
   "cell_type": "code",
   "execution_count": 4,
   "metadata": {},
   "outputs": [
    {
     "data": {
      "text/plain": [
       "приложение для Android    1882\n",
       "приложение для iPhone     1702\n",
       "полная версия сайта        326\n",
       "мобильная версия           270\n",
       "не известно                 50\n",
       "приложение для iPad          1\n",
       "Name: platform_text, dtype: int64"
      ]
     },
     "execution_count": 4,
     "metadata": {},
     "output_type": "execute_result"
    }
   ],
   "source": [
    "user_df = pd.DataFrame(user_ids)\n",
    "\n",
    "def extract_city_name(city_dict):\n",
    "    if isinstance(city_dict, dict):\n",
    "        return city_dict['title']\n",
    "    return None\n",
    "\n",
    "def extract_work_name(work_dict):\n",
    "    if isinstance(work_dict, dict):\n",
    "        return work_dict['name']\n",
    "    return None\n",
    "\n",
    "def extract_plathorm_name(platform_dict):\n",
    "    if isinstance(platform_dict, dict):\n",
    "        return platform_dict['platform']\n",
    "    return None\n",
    "\n",
    "user_df['city'] = user_df['city'].apply(lambda x: ast.literal_eval(x) if isinstance(x, str) else x)\n",
    "user_df['country'] = user_df['country'].apply(lambda x: ast.literal_eval(x) if isinstance(x, str) else x)\n",
    "user_df['occupation'] = user_df['occupation'].apply(lambda x: ast.literal_eval(x) if isinstance(x, str) else x)\n",
    "user_df['last_seen'] = user_df['last_seen'].apply(lambda x: ast.literal_eval(x) if isinstance(x, str) else x)\n",
    "\n",
    "\n",
    "user_df['city'] = user_df['city'].apply(extract_city_name)\n",
    "user_df['country'] = user_df['country'].apply(extract_city_name)\n",
    "user_df['occupation'] = user_df['occupation'].apply(extract_work_name)\n",
    "user_df['platform'] = user_df['last_seen'].apply(extract_plathorm_name)\n",
    "\n",
    "user_df['platform'] = user_df['platform'].fillna(0) \n",
    "\n",
    "\n",
    "user_df['platform_text'] = user_df['platform'].map({\n",
    "    1.0: 'мобильная версия',\n",
    "    2.0: 'приложение для iPhone',\n",
    "    3.0: 'приложение для iPad',\n",
    "    4.0: 'приложение для Android',\n",
    "    5.0: 'приложение для Windows Phone',\n",
    "    6.0: 'приложение для Windows 10',\n",
    "    7.0: 'полная версия сайта',\n",
    "    0.0: 'не известно'\n",
    "    })\n",
    "\n",
    "\n",
    "def convert_to_datetime(date_str):\n",
    "    try:\n",
    "        date_obj = parse(date_str, dayfirst=True)\n",
    "        return date_obj.strftime('%Y-%m-%d')  \n",
    "    except ValueError:\n",
    "        return None  \n",
    "\n",
    "user_df['bdate'] = user_df['bdate'].astype(str)\n",
    "user_df['birthdate'] = user_df['bdate'].apply(convert_to_datetime)\n",
    "user_df['birthdate'] = pd.to_datetime(user_df['birthdate'], errors='coerce')\n",
    "\n",
    "\n",
    "today = datetime.date.today()\n",
    "\n",
    "user_df['age'] = user_df['birthdate'].apply(lambda x: relativedelta(today, x).years if pd.notnull(x) else None)\n",
    "user_df['age'] = user_df['age'].astype('Int64')\n",
    "\n",
    "user_df['sex_text'] = user_df['sex'].map({\n",
    "    1.0: 'Девушка',\n",
    "    2.0: 'Мужчина',\n",
    "    3.0: 'Не известно',\n",
    "    })\n",
    "\n",
    "user_df['age'] = user_df['age'].replace(0, np.nan)\n",
    "user_df['age'] = user_df['age'].replace(range(80, 122), np.nan)\n",
    "user_df.platform_text.value_counts()"
   ]
  },
  {
   "cell_type": "code",
   "execution_count": 5,
   "metadata": {},
   "outputs": [],
   "source": [
    "user_df_final = user_df[['id', 'city', 'country', 'skype', 'mobile_phone', 'interests', 'about', 'activities', 'first_name', 'last_name' , 'platform_text', 'age', 'sex_text']]\n",
    "\n",
    "# user_df_final.to_csv('вафли_house_vk.csv')\n",
    "# user_df_final.to_csv('vaflya_house_vk_v2.csv')"
   ]
  }
 ],
 "metadata": {
  "kernelspec": {
   "display_name": "Python 3",
   "language": "python",
   "name": "python3"
  },
  "language_info": {
   "codemirror_mode": {
    "name": "ipython",
    "version": 3
   },
   "file_extension": ".py",
   "mimetype": "text/x-python",
   "name": "python",
   "nbconvert_exporter": "python",
   "pygments_lexer": "ipython3",
   "version": "3.11.1"
  },
  "orig_nbformat": 4
 },
 "nbformat": 4,
 "nbformat_minor": 2
}
